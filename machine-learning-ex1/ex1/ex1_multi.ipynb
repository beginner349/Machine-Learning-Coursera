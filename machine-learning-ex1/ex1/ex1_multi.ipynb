{
 "cells": [
  {
   "cell_type": "markdown",
   "metadata": {},
   "source": [
    "## Linear regression with multiple variables"
   ]
  },
  {
   "cell_type": "markdown",
   "metadata": {},
   "source": [
    "In this part, you will implement linear regression with multiple variables to\n",
    "predict the prices of houses. Suppose you are selling your house and you\n",
    "want to know what a good market price would be. One way to do this is to\n",
    "first collect information on recent houses sold and make a model of housing\n",
    "prices.\n",
    "The file ex1data2.txt contains a training set of housing prices in Portland, Oregon. The first column is the size of the house (in square feet), the\n",
    "second column is the number of bedrooms, and the third column is the price\n",
    "of the house."
   ]
  },
  {
   "cell_type": "code",
   "execution_count": 1,
   "metadata": {},
   "outputs": [],
   "source": [
    "import numpy as np  \n",
    "import pandas as pd  \n",
    "import matplotlib.pyplot as plt  \n",
    "%matplotlib inline"
   ]
  },
  {
   "cell_type": "markdown",
   "metadata": {},
   "source": [
    "================ Part 1: Feature Normalization ================"
   ]
  },
  {
   "cell_type": "code",
   "execution_count": 2,
   "metadata": {
    "scrolled": true
   },
   "outputs": [
    {
     "name": "stdout",
     "output_type": "stream",
     "text": [
      "Loading data ...\n",
      "First 10 examples from the dataset: \n",
      "x = [2104.    3.], y = [399900.]\n",
      "x = [1600.    3.], y = [329900.]\n",
      "x = [2400.    3.], y = [369000.]\n",
      "x = [1416.    2.], y = [232000.]\n",
      "x = [3000.    4.], y = [539900.]\n",
      "x = [1985.    4.], y = [299900.]\n",
      "x = [1534.    3.], y = [314900.]\n",
      "x = [1427.    3.], y = [198999.]\n",
      "x = [1380.    3.], y = [212000.]\n",
      "x = [1494.    3.], y = [242500.]\n"
     ]
    }
   ],
   "source": [
    "print('Loading data ...')\n",
    "# Load Data\n",
    "data = np.loadtxt('ex1data2.txt', delimiter=',')\n",
    "X = data[:,:2]\n",
    "y = data[:, 2]\n",
    "y = np.reshape(y, (-1, 1))\n",
    "m = len(y) \n",
    "\n",
    "# Print out some data points\n",
    "print('First 10 examples from the dataset: ')\n",
    "\n",
    "for i in range(10):\n",
    "    print('x = {}, y = {}'.format(X[i, :], y[i, :]))"
   ]
  },
  {
   "cell_type": "code",
   "execution_count": 3,
   "metadata": {},
   "outputs": [],
   "source": [
    "def featureNormalize(X):\n",
    "    \"\"\"\n",
    "    FEATURENORMALIZE Normalizes the features in X \n",
    "    FEATURENORMALIZE(X) returns a normalized version of X where\n",
    "    the mean value of each feature is 0 and the standard deviation\n",
    "    is 1. This is often a good preprocessing step to do when\n",
    "    working with learning algorithms.\n",
    "    \"\"\"\n",
    "    \n",
    "    mu = X.mean(axis=0)\n",
    "    sigma = X.std(axis=0, ddof=1)\n",
    "    X_norm = (X - mu) / sigma \n",
    "    return X_norm, mu, sigma"
   ]
  },
  {
   "cell_type": "code",
   "execution_count": 4,
   "metadata": {},
   "outputs": [
    {
     "name": "stdout",
     "output_type": "stream",
     "text": [
      "Normalizing Features ...\n"
     ]
    }
   ],
   "source": [
    "print('Normalizing Features ...')"
   ]
  },
  {
   "cell_type": "code",
   "execution_count": 5,
   "metadata": {},
   "outputs": [],
   "source": [
    "# Scale features and set them to zero mean\n",
    "\n",
    "X, mu, sigma = featureNormalize(X)\n",
    "\n",
    "# add intercept term to X\n",
    "X = np.insert(X, 0, 1, axis=1)"
   ]
  },
  {
   "cell_type": "markdown",
   "metadata": {},
   "source": [
    "================ Part 2: Gradient Descent ================"
   ]
  },
  {
   "cell_type": "code",
   "execution_count": 6,
   "metadata": {},
   "outputs": [],
   "source": [
    "def computeCostMulti(X, y, theta):  \n",
    "    \"\"\"\n",
    "    COMPUTECOSTMULTI Compute cost for linear regression with multiple variables\n",
    "    J = COMPUTECOSTMULTI(X, y, theta) computes the cost of using theta as the\n",
    "    parameter for linear regression to fit the data points in X and y\n",
    "    \"\"\"\n",
    "    \n",
    "    m = len(y) # number of training examples\n",
    "    inner = np.dot(X, theta) - y\n",
    "    return ((1/(2*m)) * np.dot(inner.T, inner)).item()"
   ]
  },
  {
   "cell_type": "code",
   "execution_count": 7,
   "metadata": {},
   "outputs": [],
   "source": [
    "def gradientDescentMulti(X, y, theta, alpha, iters):\n",
    "    \"\"\"\n",
    "    GRADIENTDESCENTMULTI Performs gradient descent to learn theta\n",
    "    theta = GRADIENTDESCENTMULTI(x, y, theta, alpha, num_iters) updates theta by\n",
    "    taking num_iters gradient steps with learning rate alpha\n",
    "    \"\"\"\n",
    "    \n",
    "    m = len(y) # number of training examples\n",
    "    J_history = np.zeros(iters)\n",
    "    for i in range(iters):\n",
    "        theta = theta - (alpha/m) * np.dot(X.T, (np.dot(X, theta) - y) )\n",
    "        \n",
    "        # Save the cost J in every iteration    \n",
    "        J_history[i] = computeCostMulti(X,y, theta)\n",
    "        \n",
    "    return theta, J_history"
   ]
  },
  {
   "cell_type": "code",
   "execution_count": 8,
   "metadata": {},
   "outputs": [
    {
     "name": "stdout",
     "output_type": "stream",
     "text": [
      "Running gradient descent ...\n"
     ]
    }
   ],
   "source": [
    "print('Running gradient descent ...')"
   ]
  },
  {
   "cell_type": "code",
   "execution_count": 9,
   "metadata": {},
   "outputs": [
    {
     "data": {
      "text/plain": [
       "Text(0,0.5,'Cost J')"
      ]
     },
     "execution_count": 9,
     "metadata": {},
     "output_type": "execute_result"
    },
    {
     "data": {
      "image/png": "[encoded data removed]",
      "text/plain": [
       "<Figure size 864x576 with 1 Axes>"
      ]
     },
     "metadata": {},
     "output_type": "display_data"
    }
   ],
   "source": [
    "# Choose some alpha value\n",
    "alpha = 0.9\n",
    "num_iters = 50\n",
    "\n",
    "# Init Theta and Run Gradient Descent \n",
    "theta = np.zeros((3, 1))\n",
    "theta, J_history = gradientDescentMulti(X, y, theta, alpha, num_iters)\n",
    "\n",
    "# Plot the convergence graph\n",
    "fig, ax = plt.subplots(figsize=(12,8))\n",
    "ax.plot(np.arange(num_iters), J_history, 'blue')\n",
    "ax.set_xlabel('Number of iterations')\n",
    "ax.set_ylabel('Cost J')"
   ]
  },
  {
   "cell_type": "code",
   "execution_count": 10,
   "metadata": {},
   "outputs": [
    {
     "name": "stdout",
     "output_type": "stream",
     "text": [
      "Theta computed from gradient descent: \n",
      "340412.6595744681\n",
      "110631.05027752834\n",
      "-6649.4742695020495\n"
     ]
    }
   ],
   "source": [
    "# Display gradient descent's result\n",
    "print('Theta computed from gradient descent: ', *theta.ravel(), sep='\\n')"
   ]
  },
  {
   "cell_type": "code",
   "execution_count": 11,
   "metadata": {},
   "outputs": [
    {
     "name": "stdout",
     "output_type": "stream",
     "text": [
      "Predicted price of a 1650 sq-ft, 3 br house (using gradient descent): \n",
      "$ 293081.4643351829\n"
     ]
    }
   ],
   "source": [
    "# Estimate the price of a 1650 sq-ft, 3 br house\n",
    "# Recall that the first column of X is all-ones. \n",
    "# Thus, it does not need to be normalized.\n",
    "X = (np.array([1650,  3], ndmin=2) - mu) / sigma\n",
    "X_pred = np.insert(X, 0, 1, axis=1)\n",
    "price = np.dot(X_pred, theta).item()\n",
    "\n",
    "print('Predicted price of a 1650 sq-ft, 3 br house (using gradient descent): \\n$',price)"
   ]
  },
  {
   "cell_type": "markdown",
   "metadata": {},
   "source": [
    "================ Part 3: Normal Equations ================"
   ]
  },
  {
   "cell_type": "code",
   "execution_count": 12,
   "metadata": {},
   "outputs": [],
   "source": [
    "def normalEqn(X, y):\n",
    "    \"\"\"\n",
    "    NORMALEQN Computes the closed-form solution to linear regression \n",
    "    NORMALEQN(X,y) computes the closed-form solution to linear \n",
    "    regression using the normal equations.\n",
    "    \"\"\"\n",
    "    \n",
    "    return np.linalg.solve( np.dot(X.T, X), np.dot(X.T, y) )"
   ]
  },
  {
   "cell_type": "code",
   "execution_count": 13,
   "metadata": {},
   "outputs": [
    {
     "name": "stdout",
     "output_type": "stream",
     "text": [
      "Solving with normal equations...\n",
      "Theta computed from the normal equations: \n",
      "89597.90954279766\n",
      "139.21067401762556\n",
      "-8738.019112327902\n"
     ]
    }
   ],
   "source": [
    "print('Solving with normal equations...')\n",
    "# Load Data\n",
    "X = data[:, :2]\n",
    "y = data[:, 2]\n",
    "y = np.reshape(y, (-1, 1))\n",
    "m = len(y)\n",
    "\n",
    "# Add intercept term to X\n",
    "X = np.insert(X, 0, 1, axis=1)\n",
    "\n",
    "# Calculate the parameters from the normal equation\n",
    "theta = normalEqn(X, y)\n",
    "\n",
    "# Display normal equation's result\n",
    "print('Theta computed from the normal equations: ', *theta.ravel(), sep='\\n')"
   ]
  },
  {
   "cell_type": "code",
   "execution_count": 14,
   "metadata": {},
   "outputs": [
    {
     "name": "stdout",
     "output_type": "stream",
     "text": [
      "Predicted price of a 1650 sq-ft, 3 br house (using normal equations): \n",
      "$ 293081.46433489607\n"
     ]
    }
   ],
   "source": [
    "# Estimate the price of a 1650 sq-ft, 3 br house\n",
    "price = np.dot( np.array([1, 1650, 3], ndmin=2), theta).item()\n",
    "\n",
    "print('Predicted price of a 1650 sq-ft, 3 br house (using normal equations): \\n$', price)"
   ]
  },
  {
   "cell_type": "code",
   "execution_count": null,
   "metadata": {},
   "outputs": [],
   "source": []
  }
 ],
 "metadata": {
  "kernelspec": {
   "display_name": "Python 3",
   "language": "python",
   "name": "python3"
  },
  "language_info": {
   "codemirror_mode": {
    "name": "ipython",
    "version": 3
   },
   "file_extension": ".py",
   "mimetype": "text/x-python",
   "name": "python",
   "nbconvert_exporter": "python",
   "pygments_lexer": "ipython3",
   "version": "3.6.5"
  }
 },
 "nbformat": 4,
 "nbformat_minor": 2
}
